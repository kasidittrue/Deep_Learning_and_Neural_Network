{
 "cells": [
  {
   "cell_type": "code",
   "execution_count": 54,
   "metadata": {},
   "outputs": [],
   "source": [
    "try:\n",
    "    # %tensorflow_version only exists in Colab.\n",
    "    %tensorflow_version 2.x\n",
    "except Exception:\n",
    "    pass\n",
    "\n",
    "# TensorFlow ≥2.0 is required\n",
    "import tensorflow as tf\n",
    "assert tf.__version__ >= \"2.0\"\n",
    "\n",
    "# Common imports\n",
    "import numpy as np\n",
    "import os\n",
    "\n",
    "# to make this notebook's output stable across runs\n",
    "np.random.seed(42)\n",
    "\n",
    "# To plot pretty figures\n",
    "%matplotlib inline\n",
    "import matplotlib as mpl\n",
    "import matplotlib.pyplot as plt\n",
    "mpl.rc('axes', labelsize=14)\n",
    "mpl.rc('xtick', labelsize=12)\n",
    "mpl.rc('ytick', labelsize=12)"
   ]
  },
  {
   "cell_type": "markdown",
   "metadata": {},
   "source": [
    "# Neural Networks and Deep Learning\n",
    "# 10. Introduction to Artificial Neural Networks with Keras\n",
    "\n",
    "**Backpropagation** : algorithm to train *Multilayer Perceptrons*  (deep learning)  \n",
    "\n",
    "for each training instance, the\n",
    "backpropagation algorithm first makes a prediction (forward pass) and measures the error, then goes\n",
    "through each layer in reverse to measure the error contribution from each connection (reverse pass),\n",
    "and finally tweaks the connection weights to reduce the error (Gradient Descent step)."
   ]
  },
  {
   "cell_type": "markdown",
   "metadata": {},
   "source": [
    "Deep learning library :\n",
    "\n",
    "Keras is API that work with backend engine like TensorFlow, theano, etc.  \n",
    "Pytorch is also popular API + engines from facebook"
   ]
  },
  {
   "cell_type": "code",
   "execution_count": 4,
   "metadata": {},
   "outputs": [
    {
     "data": {
      "text/plain": [
       "'2.2.4-tf'"
      ]
     },
     "execution_count": 4,
     "metadata": {},
     "output_type": "execute_result"
    }
   ],
   "source": [
    "# we will use keras version implemented by tensorFlow team\n",
    "from tensorflow import keras\n",
    "keras.__version__ "
   ]
  },
  {
   "cell_type": "markdown",
   "metadata": {},
   "source": [
    "## Example with Keras Classification : Fashion MNIST image classification"
   ]
  },
  {
   "cell_type": "code",
   "execution_count": 6,
   "metadata": {},
   "outputs": [
    {
     "data": {
      "text/plain": [
       "((60000, 28, 28), dtype('uint8'))"
      ]
     },
     "execution_count": 6,
     "metadata": {},
     "output_type": "execute_result"
    }
   ],
   "source": [
    "#load data with keras\n",
    "# fashion_mnist = keras.datasets.fashion_mnist\n",
    "(X,y) , (Xtest,ytest) = fashion_mnist.load_data()\n",
    "X.shape , X.dtype"
   ]
  },
  {
   "cell_type": "markdown",
   "metadata": {},
   "source": [
    "since we are going to train the neural network using Gradient\n",
    "Descent, ***we must scale the input features***. For simplicity, we’ll scale the pixel intensities down to the\n",
    "0–1 range"
   ]
  },
  {
   "cell_type": "code",
   "execution_count": 17,
   "metadata": {},
   "outputs": [],
   "source": [
    "# split X,y in to train and validation set\n",
    "Xtrain , Xval= X[5000:]/255 , X[:5000]/255  # devide by max value 255 to makes it in 0-1\n",
    "ytrain , yval= y[5000:] , y[:5000]"
   ]
  },
  {
   "cell_type": "code",
   "execution_count": 12,
   "metadata": {},
   "outputs": [],
   "source": [
    "class_names = [\"T-shirt/top\", \"Trouser\", \"Pullover\", \"Dress\", \"Coat\",\n",
    "               \"Sandal\", \"Shirt\", \"Sneaker\", \"Bag\", \"Ankle boot\"]"
   ]
  },
  {
   "cell_type": "code",
   "execution_count": 21,
   "metadata": {},
   "outputs": [
    {
     "data": {
      "text/plain": [
       "(4, 'Coat')"
      ]
     },
     "execution_count": 21,
     "metadata": {},
     "output_type": "execute_result"
    }
   ],
   "source": [
    "#the first image in the training set represents a coat:\n",
    "ytrain[0] ,class_names[ytrain[0]]"
   ]
  },
  {
   "cell_type": "code",
   "execution_count": 23,
   "metadata": {},
   "outputs": [
    {
     "data": {
      "image/png": "[encoded data removed]",
      "text/plain": [
       "<Figure size 432x288 with 1 Axes>"
      ]
     },
     "metadata": {
      "needs_background": "light"
     },
     "output_type": "display_data"
    }
   ],
   "source": [
    "plt.imshow(Xtrain[0], cmap=\"binary\")\n",
    "plt.axis('off')\n",
    "plt.show()"
   ]
  },
  {
   "cell_type": "code",
   "execution_count": 25,
   "metadata": {},
   "outputs": [],
   "source": [
    "# classification MLP with two hidden layers\n",
    "model = keras.models.Sequential()\n",
    "model.add(keras.layers.Flatten(input_shape=[28, 28]))\n",
    "model.add(keras.layers.Dense(300, activation=\"relu\"))\n",
    "model.add(keras.layers.Dense(100, activation=\"relu\"))\n",
    "model.add(keras.layers.Dense(10, activation=\"softmax\"))  # \"softmax\" for muticlass, \"sigmoid\" for binary\n",
    "\n",
    "# or pass it in Sequential\n",
    "# model = keras.models.Sequential([\n",
    "                                    # keras.layers.Flatten(input_shape=[28, 28]),\n",
    "                                    # keras.layers.Dense(300, activation=\"relu\"),\n",
    "                                    # keras.layers.Dense(100, activation=\"relu\"),\n",
    "                                    # keras.layers.Dense(10, activation=\"softmax\")\n",
    "                                    # ])"
   ]
  },
  {
   "cell_type": "markdown",
   "metadata": {},
   "source": [
    "The first line creates a Sequential model. This is the simplest kind of Keras model for\n",
    "neural networks that are just composed of a single stack of layers connected sequentially.\n",
    "This is called the Sequential API.\n",
    "\n",
    "Next, we build the first layer and add it to the model. It is a Flatten layer whose role is to\n",
    "convert each input image into a 1D array: if it receives input data X, it computes\n",
    "X.reshape(-1, 1). This layer does not have any parameters; it is just there to do some\n",
    "simple preprocessing. Since it is the first layer in the model, you should specify the\n",
    "input_shape, which doesn’t include the batch size, only the shape of the instances.\n",
    "Alternatively, you could add a keras.layers.InputLayer as the first layer, setting\n",
    "input_shape=[28,28].\n",
    "\n",
    "Next we add a Dense hidden layer with 300 neurons. It will use the ReLU activation\n",
    "function. Each Dense layer manages its own weight matrix, containing all the connection\n",
    "weights between the neurons and their inputs. It also manages a vector of bias terms (one per\n",
    "neuron). When it receives some input data, it computes Equation 10-2.\n",
    "Then we add a second Dense hidden layer with 100 neurons, also using the ReLU activation\n",
    "function.\n",
    "\n",
    "Finally, we add a Dense output layer with 10 neurons (one per class), using the softmax\n",
    "activation function (because the classes are exclusive)."
   ]
  },
  {
   "cell_type": "code",
   "execution_count": 26,
   "metadata": {},
   "outputs": [
    {
     "name": "stdout",
     "output_type": "stream",
     "text": [
      "Model: \"sequential_1\"\n",
      "_________________________________________________________________\n",
      "Layer (type)                 Output Shape              Param #   \n",
      "=================================================================\n",
      "flatten (Flatten)            (None, 784)               0         \n",
      "_________________________________________________________________\n",
      "dense (Dense)                (None, 300)               235500    \n",
      "_________________________________________________________________\n",
      "dense_1 (Dense)              (None, 100)               30100     \n",
      "_________________________________________________________________\n",
      "dense_2 (Dense)              (None, 10)                1010      \n",
      "=================================================================\n",
      "Total params: 266,610\n",
      "Trainable params: 266,610\n",
      "Non-trainable params: 0\n",
      "_________________________________________________________________\n"
     ]
    }
   ],
   "source": [
    "model.summary()"
   ]
  },
  {
   "cell_type": "code",
   "execution_count": 31,
   "metadata": {},
   "outputs": [
    {
     "data": {
      "text/plain": [
       "[<tensorflow.python.keras.layers.core.Flatten at 0x2b2208004c8>,\n",
       " <tensorflow.python.keras.layers.core.Dense at 0x2b220800208>,\n",
       " <tensorflow.python.keras.layers.core.Dense at 0x2b220786308>,\n",
       " <tensorflow.python.keras.layers.core.Dense at 0x2b220792a88>]"
      ]
     },
     "execution_count": 31,
     "metadata": {},
     "output_type": "execute_result"
    }
   ],
   "source": [
    "model.layers"
   ]
  },
  {
   "cell_type": "code",
   "execution_count": 33,
   "metadata": {},
   "outputs": [
    {
     "name": "stdout",
     "output_type": "stream",
     "text": [
      "dense\n"
     ]
    },
    {
     "data": {
      "text/plain": [
       "(None,\n",
       " array([[ 0.0223158 , -0.03352105,  0.02669309, ..., -0.06958773,\n",
       "         -0.07258094, -0.02817009],\n",
       "        [-0.04857974, -0.05002204,  0.04955743, ...,  0.02511395,\n",
       "          0.01091783,  0.00739525],\n",
       "        [-0.0059232 ,  0.02604344,  0.00482537, ..., -0.03152025,\n",
       "         -0.05899241,  0.05354139],\n",
       "        ...,\n",
       "        [ 0.04905962,  0.03323015,  0.01455788, ...,  0.07430843,\n",
       "         -0.04622167,  0.01480616],\n",
       "        [-0.05094047, -0.02817287,  0.03824581, ...,  0.04072347,\n",
       "          0.04518092, -0.04512015],\n",
       "        [ 0.01115239, -0.00449917,  0.00434219, ...,  0.01223318,\n",
       "         -0.03971261, -0.07010337]], dtype=float32))"
      ]
     },
     "execution_count": 33,
     "metadata": {},
     "output_type": "execute_result"
    }
   ],
   "source": [
    "hidden1 = model.layers[1]\n",
    "weights, biases = hidden1.get_weights()\n",
    "print(hidden1.name),weights"
   ]
  },
  {
   "cell_type": "markdown",
   "metadata": {},
   "source": [
    "Then call its $compile()$ method to specify the loss function and the\n",
    "optimizer to use"
   ]
  },
  {
   "cell_type": "code",
   "execution_count": 34,
   "metadata": {},
   "outputs": [],
   "source": [
    "model.compile(loss=\"sparse_categorical_crossentropy\", # \"categorical_crossentropy\",\"binary_crossentropy\"\n",
    "              optimizer=\"sgd\",  #optimizer=keras.optimizers.SGD(lr=???) to specify learning rate\n",
    "              metrics=[\"accuracy\"])"
   ]
  },
  {
   "cell_type": "code",
   "execution_count": 36,
   "metadata": {
    "collapsed": true,
    "jupyter": {
     "outputs_hidden": true
    }
   },
   "outputs": [
    {
     "name": "stdout",
     "output_type": "stream",
     "text": [
      "Train on 55000 samples, validate on 5000 samples\n",
      "Epoch 1/30\n",
      "55000/55000 [==============================] - 3s 58us/sample - loss: 0.7113 - accuracy: 0.7684 - val_loss: 0.5049 - val_accuracy: 0.8316\n",
      "Epoch 2/30\n",
      "55000/55000 [==============================] - 3s 51us/sample - loss: 0.4876 - accuracy: 0.8296 - val_loss: 0.4393 - val_accuracy: 0.8516\n",
      "Epoch 3/30\n",
      "55000/55000 [==============================] - 3s 51us/sample - loss: 0.4432 - accuracy: 0.8459 - val_loss: 0.4831 - val_accuracy: 0.8320\n",
      "Epoch 4/30\n",
      "55000/55000 [==============================] - 3s 51us/sample - loss: 0.4152 - accuracy: 0.8550 - val_loss: 0.3930 - val_accuracy: 0.8668\n",
      "Epoch 5/30\n",
      "55000/55000 [==============================] - 3s 50us/sample - loss: 0.3965 - accuracy: 0.8596 - val_loss: 0.4002 - val_accuracy: 0.8624\n",
      "Epoch 6/30\n",
      "55000/55000 [==============================] - 3s 61us/sample - loss: 0.3806 - accuracy: 0.8655 - val_loss: 0.3769 - val_accuracy: 0.8704\n",
      "Epoch 7/30\n",
      "55000/55000 [==============================] - 3s 54us/sample - loss: 0.3669 - accuracy: 0.8694 - val_loss: 0.3632 - val_accuracy: 0.8702\n",
      "Epoch 8/30\n",
      "55000/55000 [==============================] - 3s 51us/sample - loss: 0.3548 - accuracy: 0.8735 - val_loss: 0.3739 - val_accuracy: 0.8712\n",
      "Epoch 9/30\n",
      "55000/55000 [==============================] - 3s 53us/sample - loss: 0.3449 - accuracy: 0.8767 - val_loss: 0.3625 - val_accuracy: 0.8668\n",
      "Epoch 10/30\n",
      "55000/55000 [==============================] - ETA: 0s - loss: 0.3353 - accuracy: 0.88 - 3s 51us/sample - loss: 0.3352 - accuracy: 0.8810 - val_loss: 0.3507 - val_accuracy: 0.8768\n",
      "Epoch 11/30\n",
      "55000/55000 [==============================] - 3s 52us/sample - loss: 0.3255 - accuracy: 0.8839 - val_loss: 0.3609 - val_accuracy: 0.8736\n",
      "Epoch 12/30\n",
      "55000/55000 [==============================] - ETA: 0s - loss: 0.3178 - accuracy: 0.88 - 3s 51us/sample - loss: 0.3177 - accuracy: 0.8860 - val_loss: 0.3348 - val_accuracy: 0.8818\n",
      "Epoch 13/30\n",
      "55000/55000 [==============================] - 3s 53us/sample - loss: 0.3110 - accuracy: 0.8876 - val_loss: 0.3433 - val_accuracy: 0.8786\n",
      "Epoch 14/30\n",
      "55000/55000 [==============================] - 3s 51us/sample - loss: 0.3037 - accuracy: 0.8911 - val_loss: 0.3192 - val_accuracy: 0.8824\n",
      "Epoch 15/30\n",
      "55000/55000 [==============================] - 3s 52us/sample - loss: 0.2969 - accuracy: 0.8931 - val_loss: 0.3313 - val_accuracy: 0.8820\n",
      "Epoch 16/30\n",
      "55000/55000 [==============================] - 3s 50us/sample - loss: 0.2911 - accuracy: 0.8948 - val_loss: 0.3145 - val_accuracy: 0.8890\n",
      "Epoch 17/30\n",
      "55000/55000 [==============================] - 3s 56us/sample - loss: 0.2867 - accuracy: 0.8962 - val_loss: 0.3145 - val_accuracy: 0.8872\n",
      "Epoch 18/30\n",
      "55000/55000 [==============================] - 3s 55us/sample - loss: 0.2799 - accuracy: 0.8994 - val_loss: 0.3191 - val_accuracy: 0.8848\n",
      "Epoch 19/30\n",
      "55000/55000 [==============================] - 3s 54us/sample - loss: 0.2747 - accuracy: 0.9004 - val_loss: 0.3069 - val_accuracy: 0.8906\n",
      "Epoch 20/30\n",
      "55000/55000 [==============================] - 3s 55us/sample - loss: 0.2689 - accuracy: 0.9031 - val_loss: 0.3091 - val_accuracy: 0.8878\n",
      "Epoch 21/30\n",
      "55000/55000 [==============================] - 3s 52us/sample - loss: 0.2645 - accuracy: 0.9047 - val_loss: 0.3156 - val_accuracy: 0.8882\n",
      "Epoch 22/30\n",
      "55000/55000 [==============================] - 3s 54us/sample - loss: 0.2596 - accuracy: 0.9058 - val_loss: 0.3003 - val_accuracy: 0.8880\n",
      "Epoch 23/30\n",
      "55000/55000 [==============================] - 3s 53us/sample - loss: 0.2553 - accuracy: 0.9071 - val_loss: 0.3056 - val_accuracy: 0.8872\n",
      "Epoch 24/30\n",
      "55000/55000 [==============================] - 3s 54us/sample - loss: 0.2501 - accuracy: 0.9099 - val_loss: 0.3022 - val_accuracy: 0.8888\n",
      "Epoch 25/30\n",
      "55000/55000 [==============================] - 3s 52us/sample - loss: 0.2472 - accuracy: 0.9113 - val_loss: 0.2941 - val_accuracy: 0.8912\n",
      "Epoch 26/30\n",
      "55000/55000 [==============================] - 3s 52us/sample - loss: 0.2422 - accuracy: 0.9123 - val_loss: 0.3014 - val_accuracy: 0.8910\n",
      "Epoch 27/30\n",
      "55000/55000 [==============================] - 3s 58us/sample - loss: 0.2379 - accuracy: 0.9150 - val_loss: 0.2933 - val_accuracy: 0.8874\n",
      "Epoch 28/30\n",
      "55000/55000 [==============================] - 3s 52us/sample - loss: 0.2336 - accuracy: 0.9155 - val_loss: 0.2945 - val_accuracy: 0.8944\n",
      "Epoch 29/30\n",
      "55000/55000 [==============================] - 3s 57us/sample - loss: 0.2305 - accuracy: 0.9161 - val_loss: 0.2986 - val_accuracy: 0.8912\n",
      "Epoch 30/30\n",
      "55000/55000 [==============================] - 3s 56us/sample - loss: 0.2266 - accuracy: 0.9190 - val_loss: 0.2945 - val_accuracy: 0.8928\n"
     ]
    }
   ],
   "source": [
    "#train\n",
    "history = model.fit(Xtrain, ytrain, epochs=30,\n",
    "                    validation_data=(Xval, yval))"
   ]
  },
  {
   "cell_type": "code",
   "execution_count": 37,
   "metadata": {},
   "outputs": [
    {
     "data": {
      "text/plain": [
       "{'batch_size': 32,\n",
       " 'epochs': 30,\n",
       " 'steps': 1719,\n",
       " 'samples': 55000,\n",
       " 'verbose': 0,\n",
       " 'do_validation': True,\n",
       " 'metrics': ['loss', 'accuracy', 'val_loss', 'val_accuracy']}"
      ]
     },
     "execution_count": 37,
     "metadata": {},
     "output_type": "execute_result"
    }
   ],
   "source": [
    "history.params"
   ]
  },
  {
   "cell_type": "code",
   "execution_count": 42,
   "metadata": {},
   "outputs": [
    {
     "data": {
      "text/plain": [
       "dict_keys(['loss', 'accuracy', 'val_loss', 'val_accuracy'])"
      ]
     },
     "execution_count": 42,
     "metadata": {},
     "output_type": "execute_result"
    }
   ],
   "source": [
    "history.history.keys()"
   ]
  },
  {
   "cell_type": "code",
   "execution_count": 39,
   "metadata": {},
   "outputs": [
    {
     "data": {
      "image/png": "[encoded data removed]",
      "text/plain": [
       "<Figure size 576x360 with 1 Axes>"
      ]
     },
     "metadata": {
      "needs_background": "light"
     },
     "output_type": "display_data"
    }
   ],
   "source": [
    "import pandas as pd\n",
    "\n",
    "pd.DataFrame(history.history).plot(figsize=(8, 5))\n",
    "plt.grid(True)\n",
    "plt.gca().set_ylim(0, 1)\n",
    "plt.show()"
   ]
  },
  {
   "cell_type": "code",
   "execution_count": 43,
   "metadata": {},
   "outputs": [
    {
     "name": "stdout",
     "output_type": "stream",
     "text": [
      "10000/10000 [==============================] - 0s 35us/sample - loss: 64.8183 - accuracy: 0.8468\n"
     ]
    },
    {
     "data": {
      "text/plain": [
       "[64.81831487789154, 0.8468]"
      ]
     },
     "execution_count": 43,
     "metadata": {},
     "output_type": "execute_result"
    }
   ],
   "source": [
    "#evaluate with test set\n",
    "model.evaluate(Xtest, ytest)"
   ]
  },
  {
   "cell_type": "markdown",
   "metadata": {},
   "source": [
    "Using the model to make predictions"
   ]
  },
  {
   "cell_type": "code",
   "execution_count": 46,
   "metadata": {},
   "outputs": [
    {
     "data": {
      "text/plain": [
       "array([[0., 0., 0., 0., 0., 0., 0., 0., 0., 1.],\n",
       "       [0., 0., 1., 0., 0., 0., 0., 0., 0., 0.],\n",
       "       [0., 1., 0., 0., 0., 0., 0., 0., 0., 0.]], dtype=float32)"
      ]
     },
     "execution_count": 46,
     "metadata": {},
     "output_type": "execute_result"
    }
   ],
   "source": [
    "Xnew = Xtest[:3]\n",
    "y_proba = model.predict(Xnew)\n",
    "y_proba.round(3)\n",
    "#the model estimates one probability per class, from class 0 to class 9."
   ]
  },
  {
   "cell_type": "markdown",
   "metadata": {},
   "source": [
    "## Example with Keras Regression : California housing"
   ]
  },
  {
   "cell_type": "code",
   "execution_count": 52,
   "metadata": {},
   "outputs": [],
   "source": [
    "#load housing data (no cat and missing value version)\n",
    "from sklearn.datasets import fetch_california_housing\n",
    "from sklearn.model_selection import train_test_split\n",
    "from sklearn.preprocessing import StandardScaler\n",
    "\n",
    "housing = fetch_california_housing()\n",
    "X_train_full, X_test, y_train_full, y_test = train_test_split(housing.data, housing.target, random_state=42)\n",
    "X_train, X_valid, y_train, y_valid = train_test_split(X_train_full, y_train_full, random_state=42)\n",
    "\n",
    "scaler = StandardScaler()\n",
    "X_train = scaler.fit_transform(X_train)\n",
    "X_valid = scaler.transform(X_valid)\n",
    "X_test = scaler.transform(X_test)"
   ]
  },
  {
   "cell_type": "code",
   "execution_count": 90,
   "metadata": {},
   "outputs": [
    {
     "data": {
      "text/plain": [
       "(8,)"
      ]
     },
     "execution_count": 90,
     "metadata": {},
     "output_type": "execute_result"
    }
   ],
   "source": [
    "X_train.shape[1:]"
   ]
  },
  {
   "cell_type": "code",
   "execution_count": 91,
   "metadata": {},
   "outputs": [],
   "source": [
    "model = keras.models.Sequential([\n",
    "    keras.layers.Dense(30,activation='relu',input_shape = X_train.shape[1:]),\n",
    "    keras.layers.Dense(1)\n",
    "])"
   ]
  },
  {
   "cell_type": "code",
   "execution_count": 92,
   "metadata": {},
   "outputs": [
    {
     "name": "stdout",
     "output_type": "stream",
     "text": [
      "Train on 11610 samples, validate on 3870 samples\n",
      "Epoch 1/20\n",
      "11610/11610 [==============================] - 0s 42us/sample - loss: 0.8476 - val_loss: 19.4143\n",
      "Epoch 2/20\n",
      "11610/11610 [==============================] - 0s 29us/sample - loss: 0.5441 - val_loss: 17.4337\n",
      "Epoch 3/20\n",
      "11610/11610 [==============================] - 0s 30us/sample - loss: 0.5326 - val_loss: 0.4007\n",
      "Epoch 4/20\n",
      "11610/11610 [==============================] - 0s 28us/sample - loss: 0.4266 - val_loss: 0.3907\n",
      "Epoch 5/20\n",
      "11610/11610 [==============================] - 0s 29us/sample - loss: 0.4129 - val_loss: 0.3843\n",
      "Epoch 6/20\n",
      "11610/11610 [==============================] - 0s 27us/sample - loss: 0.4030 - val_loss: 0.3729\n",
      "Epoch 7/20\n",
      "11610/11610 [==============================] - 0s 29us/sample - loss: 0.3942 - val_loss: 0.3722\n",
      "Epoch 8/20\n",
      "11610/11610 [==============================] - 0s 33us/sample - loss: 0.3883 - val_loss: 0.3646\n",
      "Epoch 9/20\n",
      "11610/11610 [==============================] - 0s 30us/sample - loss: 0.3828 - val_loss: 0.3576\n",
      "Epoch 10/20\n",
      "11610/11610 [==============================] - 0s 40us/sample - loss: 0.3781 - val_loss: 0.3575\n",
      "Epoch 11/20\n",
      "11610/11610 [==============================] - 0s 39us/sample - loss: 0.3749 - val_loss: 0.3545\n",
      "Epoch 12/20\n",
      "11610/11610 [==============================] - 0s 40us/sample - loss: 0.3701 - val_loss: 0.3571\n",
      "Epoch 13/20\n",
      "11610/11610 [==============================] - 0s 35us/sample - loss: 0.3664 - val_loss: 0.3579\n",
      "Epoch 14/20\n",
      "11610/11610 [==============================] - 1s 66us/sample - loss: 0.3641 - val_loss: 0.3730\n",
      "Epoch 15/20\n",
      "11610/11610 [==============================] - 1s 53us/sample - loss: 0.3627 - val_loss: 0.3682\n",
      "Epoch 16/20\n",
      "11610/11610 [==============================] - 1s 57us/sample - loss: 0.3592 - val_loss: 0.3699\n",
      "Epoch 17/20\n",
      "11610/11610 [==============================] - 1s 61us/sample - loss: 0.3579 - val_loss: 0.3725\n",
      "Epoch 18/20\n",
      "11610/11610 [==============================] - 1s 55us/sample - loss: 0.3573 - val_loss: 0.3678\n",
      "Epoch 19/20\n",
      "11610/11610 [==============================] - 1s 55us/sample - loss: 0.3543 - val_loss: 0.3664\n",
      "Epoch 20/20\n",
      "11610/11610 [==============================] - 1s 52us/sample - loss: 0.3527 - val_loss: 0.3701\n",
      "5160/5160 [==============================] - 0s 27us/sample - loss: 0.3585\n"
     ]
    }
   ],
   "source": [
    "model.compile(loss=\"mean_squared_error\",\n",
    "              optimizer=\"sgd\")\n",
    "#fit\n",
    "history = model.fit(X_train, y_train, epochs=20,validation_data=(X_valid, y_valid))\n",
    "# evaluate\n",
    "mse_test = model.evaluate(X_test, y_test)"
   ]
  },
  {
   "cell_type": "code",
   "execution_count": 93,
   "metadata": {},
   "outputs": [
    {
     "data": {
      "image/png": "[encoded data removed]",
      "text/plain": [
       "<Figure size 432x288 with 1 Axes>"
      ]
     },
     "metadata": {
      "needs_background": "light"
     },
     "output_type": "display_data"
    }
   ],
   "source": [
    "plt.plot(pd.DataFrame(history.history))\n",
    "plt.grid(True)\n",
    "plt.gca().set_ylim(0, 1)\n",
    "plt.show()"
   ]
  },
  {
   "cell_type": "code",
   "execution_count": 69,
   "metadata": {},
   "outputs": [],
   "source": [
    "X_new = X_test[:3] # pretend these are new instances\n",
    "y_pred = model.predict(X_new)"
   ]
  },
  {
   "cell_type": "markdown",
   "metadata": {},
   "source": [
    "## Building Complex Models Using the Functional API\n",
    "\n",
    "Example of a nonsequential neural network, Wide & Deep neural network. It connects all or\n",
    "part of the inputs directly to the output layer makes it\n",
    "possible for the neural network to learn both deep patterns (using the deep path) and simple rules\n",
    "(through the short path)"
   ]
  },
  {
   "cell_type": "code",
   "execution_count": 77,
   "metadata": {},
   "outputs": [],
   "source": [
    "# let build to tackle california problem\n",
    "input_ = keras.layers.Input(shape= X_train.shape[1:])\n",
    "hidden1 = keras.layers.Dense(30,activation='relu')(input_)\n",
    "hidden2 = keras.layers.Dense(30,activation='relu')(hidden1)\n",
    "concat = keras.layers.Concatenate()([input_,hidden2])\n",
    "output = keras.layers.Dense(1)(concat)\n",
    "\n",
    "model = keras.models.Model(inputs=[input_], outputs=[output])"
   ]
  },
  {
   "cell_type": "code",
   "execution_count": 95,
   "metadata": {},
   "outputs": [
    {
     "name": "stdout",
     "output_type": "stream",
     "text": [
      "5160/5160 [==============================] - 0s 13us/sample - loss: 0.3411\n"
     ]
    }
   ],
   "source": [
    "model.compile(loss = 'mean_squared_error',\n",
    "             optimizer = 'sgd')\n",
    "\n",
    "history = model.fit(X_train, y_train,epochs = 20, validation_data = (X_valid,y_valid))\n",
    "mse_test = model.evaluate(X_test, y_test)"
   ]
  },
  {
   "cell_type": "markdown",
   "metadata": {},
   "source": [
    "Loss is better than normal model 0.35 -> 0.34"
   ]
  },
  {
   "cell_type": "markdown",
   "metadata": {},
   "source": [
    "What if you want to send different subsets of input features through the wide or deep paths? We will send 5 features (features 0 to 4), and 6 through the deep path (features 2 to 7). Note that 3 features will go through both (features 2, 3 and 4)."
   ]
  },
  {
   "cell_type": "code",
   "execution_count": 96,
   "metadata": {},
   "outputs": [],
   "source": [
    "input_A = keras.layers.Input(shape=[5], name=\"wide_input\")\n",
    "input_B = keras.layers.Input(shape=[6], name=\"deep_input\")\n",
    "hidden1 = keras.layers.Dense(30, activation=\"relu\")(input_B)\n",
    "hidden2 = keras.layers.Dense(30, activation=\"relu\")(hidden1)\n",
    "concat = keras.layers.concatenate([input_A, hidden2])\n",
    "output = keras.layers.Dense(1, name=\"output\")(concat)\n",
    "model = keras.models.Model(inputs=[input_A, input_B], outputs=[output])"
   ]
  },
  {
   "cell_type": "markdown",
   "metadata": {},
   "source": [
    "when we call the fit() method,\n",
    "instead of passing a single input matrix X_train, we must pass a pair of matrices (X_train_A,\n",
    "X_train_B): one per input."
   ]
  },
  {
   "cell_type": "code",
   "execution_count": 119,
   "metadata": {},
   "outputs": [
    {
     "name": "stdout",
     "output_type": "stream",
     "text": [
      "5160/5160 [==============================] - 0s 17us/sample - loss: 0.3699\n"
     ]
    }
   ],
   "source": [
    "model.compile(loss = 'mse',\n",
    "             optimizer = keras.optimizers.SGD(lr=1e-3)) # learning rate\n",
    "history = model.fit((X_train[:,:5],X_train[:,2:]), y_train,epochs= 20 ,\n",
    "                    validation_data= ((X_valid[:,:5],X_valid[:,2:]),y_valid))\n",
    "#eval\n",
    "mse_test = model.evaluate((X_test[:,:5],X_test[:,2:]), y_test)\n",
    "y_pred = model.predict ((X_test[:,:5],X_test[:,2:]))"
   ]
  },
  {
   "cell_type": "code",
   "execution_count": null,
   "metadata": {},
   "outputs": [],
   "source": []
  },
  {
   "cell_type": "code",
   "execution_count": null,
   "metadata": {},
   "outputs": [],
   "source": []
  },
  {
   "cell_type": "code",
   "execution_count": null,
   "metadata": {},
   "outputs": [],
   "source": []
  },
  {
   "cell_type": "code",
   "execution_count": null,
   "metadata": {},
   "outputs": [],
   "source": []
  },
  {
   "cell_type": "code",
   "execution_count": null,
   "metadata": {},
   "outputs": [],
   "source": []
  },
  {
   "cell_type": "code",
   "execution_count": null,
   "metadata": {},
   "outputs": [],
   "source": []
  }
 ],
 "metadata": {
  "kernelspec": {
   "display_name": "Python 3",
   "language": "python",
   "name": "python3"
  },
  "language_info": {
   "codemirror_mode": {
    "name": "ipython",
    "version": 3
   },
   "file_extension": ".py",
   "mimetype": "text/x-python",
   "name": "python",
   "nbconvert_exporter": "python",
   "pygments_lexer": "ipython3",
   "version": "3.7.7"
  }
 },
 "nbformat": 4,
 "nbformat_minor": 4
}
